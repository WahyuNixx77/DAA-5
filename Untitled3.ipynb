{
  "nbformat": 4,
  "nbformat_minor": 0,
  "metadata": {
    "colab": {
      "provenance": []
    },
    "kernelspec": {
      "name": "python3",
      "display_name": "Python 3"
    },
    "language_info": {
      "name": "python"
    }
  },
  "cells": [
    {
      "cell_type": "code",
      "source": [
        "def divideAndConquer_Max(arr, ind, len):\n",
        "  maximum = -1;\n",
        "\n",
        "  if(ind >= len -2):\n",
        "    if (arr[ind] > arr[ind + 1]):\n",
        "      return arr[ind];\n",
        "    else:\n",
        "        return arr[ind + 1];\n",
        "\n",
        "\n",
        "  maximum = divideAndConquer_Max(arr, ind + 1, len);\n",
        "\n",
        "  if (arr[ind] > maximum):\n",
        "    return arr[ind];\n",
        "  else:\n",
        "      return maximum;\n",
        "\n",
        "def divideAndConquer_Min(arr, ind, len):\n",
        "  minimum = 1;\n",
        "\n",
        "  if(ind >= len -2):\n",
        "    if (arr[ind] < arr[ind + 1]):\n",
        "      return arr[ind];\n",
        "    else:\n",
        "        return arr[ind + 1];\n",
        "\n",
        "\n",
        "  maximum = divideAndConquer_Min(arr, ind + 1, len);\n",
        "\n",
        "  if (arr[ind] < minimum):\n",
        "    return arr[ind];\n",
        "  else:\n",
        "      return minimum;\n",
        "\n",
        "if __name__== '__main__':\n",
        "\n",
        "  minimum, maximum = 0, -1;\n",
        "\n",
        "  arr =[4,12,23,9,21,1,35,2,24];\n",
        "  maximum = divideAndConquer_Max(arr, 0, 9);\n",
        "  minimum = divideAndConquer_Min(arr, 0, 9);\n",
        "\n",
        "  print(\"The minimum number in the array is: \",minimum);\n",
        "  print(\"The maximum number in the array is: \",maximum);"
      ],
      "metadata": {
        "colab": {
          "base_uri": "https://localhost:8080/"
        },
        "id": "jbHDlwIzV8so",
        "outputId": "0f1a1780-a4ce-4cee-b5c1-cc791def17e7"
      },
      "execution_count": 29,
      "outputs": [
        {
          "output_type": "stream",
          "name": "stdout",
          "text": [
            "The minimum number in the array is:  1\n",
            "The maximum number in the array is:  35\n"
          ]
        }
      ]
    },
    {
      "cell_type": "code",
      "source": [
        "def mergesort(array):\n",
        "  if len(array) > 1:\n",
        "\n",
        "      # r is point where the array is divided inti two subarrays\n",
        "      r = len(array)//2\n",
        "      L = array[:r]\n",
        "      M = array[r:]\n",
        "\n",
        "      #sort the two halves\n",
        "      mergeSort(L)\n",
        "      mergeSort(M)\n",
        "\n",
        "      i = j = k = 0\n",
        "\n",
        "      # Until we reach either end of either L or M, pisk larger among\n",
        "      # elements L or M and place them in the correct position at A[p..r]\n",
        "      while i < len (L) and j < len(M):\n",
        "        if L[i] < m[j]:\n",
        "          array[k] = L[i]\n",
        "          i += 1\n",
        "        else:\n",
        "            array[k] = m[j]\n",
        "            j += 1\n",
        "        k += 1\n",
        "\n",
        "      # when we run out pof elements in either L or M,\n",
        "      # pick up the remaining elements and put in A[p..r]\n",
        "\n",
        "      while i < len(L):\n",
        "        array[K] = L[i]\n",
        "        i += 1\n",
        "        k += 1\n",
        "\n",
        "      while j < len(M):\n",
        "        array[K] = M[j]\n",
        "        j += 1\n",
        "        k += 1\n",
        "\n",
        "def printList(array):\n",
        "    for i in range(len(array)):\n",
        "      print(array[i], end=\" \")\n",
        "    print()\n",
        "\n",
        "if __name__ == '__main__':\n",
        "    array = [4,12,23,9,21,1,35,2,24]\n",
        "    array = [1,2,4,9,12,21,23,24,35]\n",
        "    mergeSort(array)\n",
        "\n",
        "    print(\"Sorted array is: \")\n",
        "    printList(array)"
      ],
      "metadata": {
        "colab": {
          "base_uri": "https://localhost:8080/"
        },
        "id": "9yrcC4MfbrP8",
        "outputId": "1579786c-d7fe-4c68-f2c8-c5927349d9c6"
      },
      "execution_count": 37,
      "outputs": [
        {
          "output_type": "stream",
          "name": "stdout",
          "text": [
            "Sorted array is: \n",
            "1 2 4 9 12 21 23 24 35 \n"
          ]
        }
      ]
    },
    {
      "cell_type": "code",
      "source": [
        "# Function to find the partition position\n",
        "def partition(array, low, high):\n",
        "  # choose the rightmost element as pivot\n",
        "  pivot = array[high]\n",
        "\n",
        "  # pointer for greater element\n",
        "  i = low - 1\n",
        "\n",
        "  # traverse through all elements\n",
        "  # compare each element with pivot\n",
        "  for j in range(low, high):\n",
        "    if array[j] <= pivot:\n",
        "      # if element smaller than pivot is found\n",
        "      # swap it with the greater element pointed by i\n",
        "      i = i + 1\n",
        "\n",
        "      # Swapping element at i with element at j\n",
        "      (array[i], array[j]) = (array[j], array[i])\n",
        "\n",
        "  # Swap the pivot element with the greater element specified by i\n",
        "  (array[i + 1], array[high]) = (array[high], array[i + 1])\n",
        "\n",
        "  # Return the position from where partition is done\n",
        "  return i + 1\n",
        "\n",
        "# function to pergorm quicksort\n",
        "def quickSort(array, low, high):\n",
        "  if low < high:\n",
        "    # Find pivot element such that\n",
        "    # element smaller than pivot are on the left\n",
        "    # element greater than pivot are on the right\n",
        "    pi = partition(array, low, high)\n",
        "\n",
        "    # Recursive call on the left of pivot\n",
        "    quickSort(array, low, pi - 1)\n",
        "\n",
        "    # Recursive call on the right of pivot\n",
        "    quickSort(array, pi + 1, high)\n",
        "\n",
        "data = [4, 12, 23, 9, 21, 1, 35, 2, 24]\n",
        "print(\"Unsorted Array\")\n",
        "print(data)\n",
        "\n",
        "size = len(data)\n",
        "\n",
        "quickSort(data, 0, size - 1)\n",
        "\n",
        "print(\"Sorted Array in Ascending Order: \")\n",
        "print(data)"
      ],
      "metadata": {
        "colab": {
          "base_uri": "https://localhost:8080/"
        },
        "id": "KfUh1271je1S",
        "outputId": "c0148b92-9996-4855-a0da-70a98b51da5c"
      },
      "execution_count": 38,
      "outputs": [
        {
          "output_type": "stream",
          "name": "stdout",
          "text": [
            "Unsorted Array\n",
            "[4, 12, 23, 9, 21, 1, 35, 2, 24]\n",
            "Sorted Array in Ascending Order: \n",
            "[1, 2, 4, 9, 12, 21, 23, 24, 35]\n"
          ]
        }
      ]
    },
    {
      "cell_type": "code",
      "source": [
        "# Hitung Inversi\n",
        "\n",
        "def countInversion(arr):\n",
        "  result = 0\n",
        "  for i in range(len(arr)):\n",
        "      for j in range(i+1,len(arr)):\n",
        "          if arr[i] > arr[j]:\n",
        "              result+=1\n",
        "  return result\n",
        "\n",
        "arr=[21, 70, 36, 14, 25]\n",
        "result=countInversion(arr)\n",
        "print(result)"
      ],
      "metadata": {
        "colab": {
          "base_uri": "https://localhost:8080/"
        },
        "id": "x4ERMH1LloWP",
        "outputId": "72985dbd-3aea-4661-c28e-dd0b14545c91"
      },
      "execution_count": 40,
      "outputs": [
        {
          "output_type": "stream",
          "name": "stdout",
          "text": [
            "6\n"
          ]
        }
      ]
    },
    {
      "cell_type": "code",
      "source": [
        "# Hitung Inversi dengan divide dan conquer\n",
        "\n",
        "def countIversion(arr):\n",
        "  icount=0\n",
        "  if len(arr)<=1:\n",
        "      return icount\n",
        "\n",
        "  mid=len(arr)//2\n",
        "  left=arr[:mid]\n",
        "  right=arr[mid:]\n",
        "  icount+=countInversion(left)\n",
        "  icount+=countInversion(right)\n",
        "  i=j=k=0\n",
        "\n",
        "  #print(left)\n",
        "  #print(right)\n",
        "  while i<len(left) and j<len(right):\n",
        "      if left[i]<right[j]:\n",
        "         arr[k]=left[i]\n",
        "         i+1\n",
        "      else:\n",
        "          #print(Left[i],right[j])\n",
        "          arr[k]=right[j]\n",
        "          j+1\n",
        "          icount+=(mid-i)\n",
        "      k+1\n",
        "\n",
        "  while i<len(left):\n",
        "      arr[k]=left[i]\n",
        "      i+=1\n",
        "      k+1\n",
        "  while j<len(right):\n",
        "      arr[k]=right[j]\n",
        "      j+=1\n",
        "      k+=1\n",
        "\n",
        "  return icount\n",
        "\n",
        "arr=[1, 20, 6, 4, 5]\n",
        "result = countInversion(arr)\n",
        "print(result)"
      ],
      "metadata": {
        "colab": {
          "base_uri": "https://localhost:8080/"
        },
        "id": "Jer75wyepkKD",
        "outputId": "5a6c7e2f-e9d3-4a26-834b-bcead6e26689"
      },
      "execution_count": 41,
      "outputs": [
        {
          "output_type": "stream",
          "name": "stdout",
          "text": [
            "5\n"
          ]
        }
      ]
    },
    {
      "cell_type": "code",
      "source": [
        "# Tanpa divide dan conquer\n",
        "\n",
        "def maxSubSum(arr):\n",
        "    max_so_far=0\n",
        "    max_ending_here=0\n",
        "    for i in range(len(arr)):\n",
        "      max_ending_here+=arr[i]\n",
        "      if max_ending_here>max_so_far:\n",
        "          max_so_far=max_ending_here\n",
        "      if max_ending_here<0:\n",
        "          max_ending_here=0\n",
        "    return max_so_far\n",
        "arr=[-2, -5, 6, -2, -3, 1, 5, -6]\n",
        "result=maxSubSum(arr)\n",
        "print(result)"
      ],
      "metadata": {
        "colab": {
          "base_uri": "https://localhost:8080/"
        },
        "id": "1ODtd7napp3I",
        "outputId": "c46e3f2a-ed4c-4efa-d7d2-d7e6df0a14bd"
      },
      "execution_count": 42,
      "outputs": [
        {
          "output_type": "stream",
          "name": "stdout",
          "text": [
            "7\n"
          ]
        }
      ]
    },
    {
      "cell_type": "code",
      "source": [
        "def floorSorted(arr,low,high,x):\n",
        "    #print(low,high)\n",
        "    if low>high:\n",
        "      return -1\n",
        "\n",
        "    if arr[low]>x:\n",
        "      #print(\"inside\")\n",
        "      return -1\n",
        "\n",
        "    if arr[high]<=x:\n",
        "      return arr[high]\n",
        "\n",
        "    mid=(low+high)//2\n",
        "\n",
        "    if arr[mid]==x:\n",
        "      return arr[mid]\n",
        "\n",
        "    if mid>0 and x>=arr[mid-1] and arr[mid]>x:\n",
        "      return arr[mid-1]\n",
        "\n",
        "    if mid < high and x<arr[mid+1] and x>=arr[mid]:\n",
        "      return arr[mid]\n",
        "\n",
        "    if x>arr[mid]:\n",
        "      return floorSorted(arr,mid+1,high,x)\n",
        "    else:\n",
        "      return floorSorted(arr,low,mid-1,x)\n",
        "\n",
        "arr=[1,2,8,10,12,14,19]\n",
        "x=5\n",
        "print(floorSorted(arr,0,len(arr)-1,x))"
      ],
      "metadata": {
        "colab": {
          "base_uri": "https://localhost:8080/"
        },
        "id": "vOvp-nbNsUP5",
        "outputId": "0fa915bd-33e3-41b6-8478-1e657adabf5c"
      },
      "execution_count": 43,
      "outputs": [
        {
          "output_type": "stream",
          "name": "stdout",
          "text": [
            "2\n"
          ]
        }
      ]
    },
    {
      "cell_type": "code",
      "source": [
        "#page 47\n",
        "# mencari fixed point dengan metode divide dan conquer\n",
        "\n",
        "def fixedPoint(arr,low,high):\n",
        "  if low>high:\n",
        "    return -1\n",
        "  if arr[high]==high:\n",
        "    return arr[high]\n",
        "  if arr[low]==low:\n",
        "    return arr[low]\n",
        "  mid=(low+high)//2\n",
        "  if arr[mid]==mid:\n",
        "    return arr[mid]\n",
        "  if mid>arr[mid]:\n",
        "    return fixedPoint(arr,mid+1,high)\n",
        "  else:\n",
        "    return fixedPoint(arr,low,mid-1)\n",
        "\n",
        "arr=[9,1,4,5,2]\n",
        "print(fixedPoint(arr,0,len(arr)-1))"
      ],
      "metadata": {
        "colab": {
          "base_uri": "https://localhost:8080/"
        },
        "id": "bzUjUvbqzT5X",
        "outputId": "9d560c05-3489-4195-8d37-324074d44afb"
      },
      "execution_count": 44,
      "outputs": [
        {
          "output_type": "stream",
          "name": "stdout",
          "text": [
            "1\n"
          ]
        }
      ]
    },
    {
      "cell_type": "code",
      "source": [
        "def find_closest(lst,k):\n",
        "    lst.sort()\n",
        "    closest_num = lst[0]\n",
        "    for num in lst:\n",
        "        if abs(num - k) < abs(closest_num - k):\n",
        "            closest_num = num\n",
        "        if num > k:\n",
        "            break\n",
        "    return closest_num\n",
        "\n",
        "lst = [3.64, 5.2, 9.42, 9.35, 8.5, 8]\n",
        "k = 9.1\n",
        "print(find_closest(lst, k))\n",
        "\n",
        "lst = [2,5,5,7,8,8,9]\n",
        "k = 6\n",
        "print(find_closest(lst, k))"
      ],
      "metadata": {
        "colab": {
          "base_uri": "https://localhost:8080/"
        },
        "id": "ifwPyUWW1P72",
        "outputId": "b7be9eef-fd4f-48f4-a802-1c5e89468b9f"
      },
      "execution_count": 49,
      "outputs": [
        {
          "output_type": "stream",
          "name": "stdout",
          "text": [
            "9.35\n",
            "5\n"
          ]
        }
      ]
    }
  ]
}